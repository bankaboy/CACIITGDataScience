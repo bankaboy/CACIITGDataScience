{
 "cells": [
  {
   "cell_type": "code",
   "execution_count": 1,
   "metadata": {},
   "outputs": [],
   "source": [
    "import pandas as pd\n",
    "import numpy as np\n",
    "import seaborn as sns\n",
    "import matplotlib.pyplot as plt\n",
    "%matplotlib inline"
   ]
  },
  {
   "cell_type": "code",
   "execution_count": 2,
   "metadata": {},
   "outputs": [
    {
     "name": "stderr",
     "output_type": "stream",
     "text": [
      "/home/dhrubanka/.local/lib/python2.7/site-packages/IPython/core/interactiveshell.py:2714: DtypeWarning: Columns (6,7) have mixed types. Specify dtype option on import or set low_memory=False.\n",
      "  interactivity=interactivity, compiler=compiler, result=result)\n"
     ]
    },
    {
     "data": {
      "text/html": [
       "<div>\n",
       "<style scoped>\n",
       "    .dataframe tbody tr th:only-of-type {\n",
       "        vertical-align: middle;\n",
       "    }\n",
       "\n",
       "    .dataframe tbody tr th {\n",
       "        vertical-align: top;\n",
       "    }\n",
       "\n",
       "    .dataframe thead th {\n",
       "        text-align: right;\n",
       "    }\n",
       "</style>\n",
       "<table border=\"1\" class=\"dataframe\">\n",
       "  <thead>\n",
       "    <tr style=\"text-align: right;\">\n",
       "      <th></th>\n",
       "      <th>ID</th>\n",
       "      <th>Date</th>\n",
       "      <th>LocationDescription</th>\n",
       "      <th>Arrest</th>\n",
       "      <th>Domestic</th>\n",
       "      <th>Beat</th>\n",
       "      <th>District</th>\n",
       "      <th>CommunityArea</th>\n",
       "      <th>Year</th>\n",
       "    </tr>\n",
       "  </thead>\n",
       "  <tbody>\n",
       "    <tr>\n",
       "      <th>0</th>\n",
       "      <td>8951354</td>\n",
       "      <td>12/31/12 23:15</td>\n",
       "      <td>STREET</td>\n",
       "      <td>False</td>\n",
       "      <td>False</td>\n",
       "      <td>623</td>\n",
       "      <td>6</td>\n",
       "      <td>69</td>\n",
       "      <td>2012</td>\n",
       "    </tr>\n",
       "    <tr>\n",
       "      <th>1</th>\n",
       "      <td>8951141</td>\n",
       "      <td>12/31/12 22:00</td>\n",
       "      <td>STREET</td>\n",
       "      <td>False</td>\n",
       "      <td>False</td>\n",
       "      <td>1213</td>\n",
       "      <td>12</td>\n",
       "      <td>24</td>\n",
       "      <td>2012</td>\n",
       "    </tr>\n",
       "    <tr>\n",
       "      <th>2</th>\n",
       "      <td>8952745</td>\n",
       "      <td>12/31/12 22:00</td>\n",
       "      <td>RESIDENTIAL YARD (FRONT/BACK)</td>\n",
       "      <td>False</td>\n",
       "      <td>False</td>\n",
       "      <td>1622</td>\n",
       "      <td>16</td>\n",
       "      <td>11</td>\n",
       "      <td>2012</td>\n",
       "    </tr>\n",
       "    <tr>\n",
       "      <th>3</th>\n",
       "      <td>8952223</td>\n",
       "      <td>12/31/12 22:00</td>\n",
       "      <td>STREET</td>\n",
       "      <td>False</td>\n",
       "      <td>False</td>\n",
       "      <td>724</td>\n",
       "      <td>7</td>\n",
       "      <td>67</td>\n",
       "      <td>2012</td>\n",
       "    </tr>\n",
       "    <tr>\n",
       "      <th>4</th>\n",
       "      <td>8951608</td>\n",
       "      <td>12/31/12 21:30</td>\n",
       "      <td>STREET</td>\n",
       "      <td>False</td>\n",
       "      <td>False</td>\n",
       "      <td>211</td>\n",
       "      <td>2</td>\n",
       "      <td>35</td>\n",
       "      <td>2012</td>\n",
       "    </tr>\n",
       "  </tbody>\n",
       "</table>\n",
       "</div>"
      ],
      "text/plain": [
       "        ID            Date            LocationDescription  Arrest  Domestic  \\\n",
       "0  8951354  12/31/12 23:15                         STREET   False     False   \n",
       "1  8951141  12/31/12 22:00                         STREET   False     False   \n",
       "2  8952745  12/31/12 22:00  RESIDENTIAL YARD (FRONT/BACK)   False     False   \n",
       "3  8952223  12/31/12 22:00                         STREET   False     False   \n",
       "4  8951608  12/31/12 21:30                         STREET   False     False   \n",
       "\n",
       "   Beat District CommunityArea  Year  \n",
       "0   623        6            69  2012  \n",
       "1  1213       12            24  2012  \n",
       "2  1622       16            11  2012  \n",
       "3   724        7            67  2012  \n",
       "4   211        2            35  2012  "
      ]
     },
     "execution_count": 2,
     "metadata": {},
     "output_type": "execute_result"
    }
   ],
   "source": [
    "org_df = pd.read_csv('Chicago_Crime_Detective.csv')\n",
    "org_df.head()"
   ]
  },
  {
   "cell_type": "code",
   "execution_count": 3,
   "metadata": {},
   "outputs": [
    {
     "data": {
      "text/plain": [
       "ID                      int64\n",
       "Date                   object\n",
       "LocationDescription    object\n",
       "Arrest                   bool\n",
       "Domestic                 bool\n",
       "Beat                    int64\n",
       "District               object\n",
       "CommunityArea          object\n",
       "Year                    int64\n",
       "dtype: object"
      ]
     },
     "execution_count": 3,
     "metadata": {},
     "output_type": "execute_result"
    }
   ],
   "source": [
    "org_df.dtypes"
   ]
  },
  {
   "cell_type": "code",
   "execution_count": 4,
   "metadata": {},
   "outputs": [],
   "source": [
    "# Extract day, month and time from date\n",
    "copy = org_df\n",
    "days = []\n",
    "months = []\n",
    "times = []\n",
    "for test in copy['Date']:\n",
    "    parts = test.split()\n",
    "    month,day,_ = parts[0].split('/')\n",
    "    days.append(int(day))\n",
    "    months.append(int(month))\n",
    "    times.append(parts[1])"
   ]
  },
  {
   "cell_type": "code",
   "execution_count": 5,
   "metadata": {},
   "outputs": [],
   "source": [
    "copy['Month'] = months\n",
    "copy['Day'] = days\n",
    "copy['Time'] = times"
   ]
  },
  {
   "cell_type": "code",
   "execution_count": 6,
   "metadata": {},
   "outputs": [
    {
     "data": {
      "text/html": [
       "<div>\n",
       "<style scoped>\n",
       "    .dataframe tbody tr th:only-of-type {\n",
       "        vertical-align: middle;\n",
       "    }\n",
       "\n",
       "    .dataframe tbody tr th {\n",
       "        vertical-align: top;\n",
       "    }\n",
       "\n",
       "    .dataframe thead th {\n",
       "        text-align: right;\n",
       "    }\n",
       "</style>\n",
       "<table border=\"1\" class=\"dataframe\">\n",
       "  <thead>\n",
       "    <tr style=\"text-align: right;\">\n",
       "      <th></th>\n",
       "      <th>ID</th>\n",
       "      <th>Date</th>\n",
       "      <th>LocationDescription</th>\n",
       "      <th>Arrest</th>\n",
       "      <th>Domestic</th>\n",
       "      <th>Beat</th>\n",
       "      <th>District</th>\n",
       "      <th>CommunityArea</th>\n",
       "      <th>Year</th>\n",
       "      <th>Month</th>\n",
       "      <th>Day</th>\n",
       "      <th>Time</th>\n",
       "    </tr>\n",
       "  </thead>\n",
       "  <tbody>\n",
       "    <tr>\n",
       "      <th>0</th>\n",
       "      <td>8951354</td>\n",
       "      <td>12/31/12 23:15</td>\n",
       "      <td>STREET</td>\n",
       "      <td>False</td>\n",
       "      <td>False</td>\n",
       "      <td>623</td>\n",
       "      <td>6</td>\n",
       "      <td>69</td>\n",
       "      <td>2012</td>\n",
       "      <td>12</td>\n",
       "      <td>31</td>\n",
       "      <td>23:15</td>\n",
       "    </tr>\n",
       "    <tr>\n",
       "      <th>1</th>\n",
       "      <td>8951141</td>\n",
       "      <td>12/31/12 22:00</td>\n",
       "      <td>STREET</td>\n",
       "      <td>False</td>\n",
       "      <td>False</td>\n",
       "      <td>1213</td>\n",
       "      <td>12</td>\n",
       "      <td>24</td>\n",
       "      <td>2012</td>\n",
       "      <td>12</td>\n",
       "      <td>31</td>\n",
       "      <td>22:00</td>\n",
       "    </tr>\n",
       "    <tr>\n",
       "      <th>2</th>\n",
       "      <td>8952745</td>\n",
       "      <td>12/31/12 22:00</td>\n",
       "      <td>RESIDENTIAL YARD (FRONT/BACK)</td>\n",
       "      <td>False</td>\n",
       "      <td>False</td>\n",
       "      <td>1622</td>\n",
       "      <td>16</td>\n",
       "      <td>11</td>\n",
       "      <td>2012</td>\n",
       "      <td>12</td>\n",
       "      <td>31</td>\n",
       "      <td>22:00</td>\n",
       "    </tr>\n",
       "    <tr>\n",
       "      <th>3</th>\n",
       "      <td>8952223</td>\n",
       "      <td>12/31/12 22:00</td>\n",
       "      <td>STREET</td>\n",
       "      <td>False</td>\n",
       "      <td>False</td>\n",
       "      <td>724</td>\n",
       "      <td>7</td>\n",
       "      <td>67</td>\n",
       "      <td>2012</td>\n",
       "      <td>12</td>\n",
       "      <td>31</td>\n",
       "      <td>22:00</td>\n",
       "    </tr>\n",
       "    <tr>\n",
       "      <th>4</th>\n",
       "      <td>8951608</td>\n",
       "      <td>12/31/12 21:30</td>\n",
       "      <td>STREET</td>\n",
       "      <td>False</td>\n",
       "      <td>False</td>\n",
       "      <td>211</td>\n",
       "      <td>2</td>\n",
       "      <td>35</td>\n",
       "      <td>2012</td>\n",
       "      <td>12</td>\n",
       "      <td>31</td>\n",
       "      <td>21:30</td>\n",
       "    </tr>\n",
       "  </tbody>\n",
       "</table>\n",
       "</div>"
      ],
      "text/plain": [
       "        ID            Date            LocationDescription  Arrest  Domestic  \\\n",
       "0  8951354  12/31/12 23:15                         STREET   False     False   \n",
       "1  8951141  12/31/12 22:00                         STREET   False     False   \n",
       "2  8952745  12/31/12 22:00  RESIDENTIAL YARD (FRONT/BACK)   False     False   \n",
       "3  8952223  12/31/12 22:00                         STREET   False     False   \n",
       "4  8951608  12/31/12 21:30                         STREET   False     False   \n",
       "\n",
       "   Beat District CommunityArea  Year  Month  Day   Time  \n",
       "0   623        6            69  2012     12   31  23:15  \n",
       "1  1213       12            24  2012     12   31  22:00  \n",
       "2  1622       16            11  2012     12   31  22:00  \n",
       "3   724        7            67  2012     12   31  22:00  \n",
       "4   211        2            35  2012     12   31  21:30  "
      ]
     },
     "execution_count": 6,
     "metadata": {},
     "output_type": "execute_result"
    }
   ],
   "source": [
    "copy.head()"
   ]
  },
  {
   "cell_type": "code",
   "execution_count": 7,
   "metadata": {
    "scrolled": true
   },
   "outputs": [
    {
     "name": "stdout",
     "output_type": "stream",
     "text": [
      "('The median month is', 7.0)\n",
      "('The median year is', 2006.0)\n"
     ]
    }
   ],
   "source": [
    "# Median month and year of dataset - Q1\n",
    "print('The median month is',copy['Month'].median())\n",
    "print('The median year is',copy['Year'].median())"
   ]
  },
  {
   "cell_type": "code",
   "execution_count": 8,
   "metadata": {
    "scrolled": false
   },
   "outputs": [
    {
     "name": "stdout",
     "output_type": "stream",
     "text": [
      "('The least active month is', 10    17086\n",
      "7     16801\n",
      "8     16572\n",
      "12    16426\n",
      "11    16063\n",
      "9     16060\n",
      "1     16047\n",
      "5     16035\n",
      "6     16002\n",
      "3     15758\n",
      "4     15280\n",
      "2     13511\n",
      "Name: Month, dtype: int64)\n"
     ]
    }
   ],
   "source": [
    "# Least active month\n",
    "print('The least active month is',copy['Month'].value_counts())"
   ]
  },
  {
   "cell_type": "code",
   "execution_count": 9,
   "metadata": {
    "scrolled": true
   },
   "outputs": [
    {
     "name": "stdout",
     "output_type": "stream",
     "text": [
      "('The most active weekday is', 15    6690\n",
      "12    6455\n",
      "20    6453\n",
      "1     6446\n",
      "21    6410\n",
      "10    6404\n",
      "19    6388\n",
      "28    6386\n",
      "27    6379\n",
      "17    6361\n",
      "23    6361\n",
      "14    6355\n",
      "5     6339\n",
      "7     6329\n",
      "18    6304\n",
      "22    6278\n",
      "11    6254\n",
      "16    6243\n",
      "25    6230\n",
      "6     6219\n",
      "26    6218\n",
      "13    6208\n",
      "8     6184\n",
      "9     6180\n",
      "24    6155\n",
      "2     6098\n",
      "3     6096\n",
      "4     5947\n",
      "29    5862\n",
      "30    5750\n",
      "31    3659\n",
      "Name: Day, dtype: int64)\n"
     ]
    }
   ],
   "source": [
    "# Most active weekday\n",
    "print('The most active weekday is',copy['Day'].value_counts())"
   ]
  },
  {
   "cell_type": "code",
   "execution_count": 15,
   "metadata": {},
   "outputs": [
    {
     "data": {
      "text/plain": [
       "{1: 1435,\n",
       " 2: 1238,\n",
       " 3: 1298,\n",
       " 4: 1252,\n",
       " 5: 1187,\n",
       " 6: 1230,\n",
       " 7: 1324,\n",
       " 8: 1329,\n",
       " 9: 1248,\n",
       " 10: 1342,\n",
       " 11: 1256,\n",
       " 12: 1397}"
      ]
     },
     "execution_count": 15,
     "metadata": {},
     "output_type": "execute_result"
    }
   ],
   "source": [
    "# Month with most arrests\n",
    "monthArrests = {x:0 for x in range(1,13)}\n",
    "for row in copy.itertuples():\n",
    "    if row.Arrest==True:\n",
    "        monthArrests[row.Month]+=1\n",
    "monthArrests"
   ]
  },
  {
   "cell_type": "code",
   "execution_count": 19,
   "metadata": {},
   "outputs": [
    {
     "data": {
      "text/plain": [
       "{2001: 20669,\n",
       " 2002: 18753,\n",
       " 2003: 16657,\n",
       " 2004: 16862,\n",
       " 2005: 16484,\n",
       " 2006: 16098,\n",
       " 2007: 14280,\n",
       " 2008: 14445,\n",
       " 2009: 12167,\n",
       " 2010: 15497,\n",
       " 2011: 15637,\n",
       " 2012: 14092}"
      ]
     },
     "execution_count": 19,
     "metadata": {},
     "output_type": "execute_result"
    }
   ],
   "source": [
    "# Counts of years - Select true statements\n",
    "yearCounts = {}\n",
    "for i in range(2002,2013):\n",
    "    count = 0\n",
    "    for j in copy['Year']:\n",
    "        if j==i:\n",
    "            count+=1\n",
    "    yearCounts[i]=count\n",
    "yearCounts"
   ]
  },
  {
   "cell_type": "code",
   "execution_count": 17,
   "metadata": {},
   "outputs": [
    {
     "data": {
      "text/plain": [
       "{1: 10588, 2: 3736}"
      ]
     },
     "execution_count": 17,
     "metadata": {},
     "output_type": "execute_result"
    }
   ],
   "source": [
    "# Which half had more arrests\n",
    "halfArrests = {1:0,2:0}\n",
    "for row in copy.itertuples():\n",
    "    if row.Arrest==True and row.Year<2007:\n",
    "        halfArrests[1]+=1\n",
    "    elif row.Arrest==True and row.Year>2007:\n",
    "        halfArrests[2]+=1\n",
    "halfArrests"
   ]
  },
  {
   "cell_type": "code",
   "execution_count": 28,
   "metadata": {},
   "outputs": [
    {
     "data": {
      "text/plain": [
       "{2001: 2152,\n",
       " 2002: 2115,\n",
       " 2003: 1798,\n",
       " 2004: 1693,\n",
       " 2005: 1528,\n",
       " 2006: 1302,\n",
       " 2007: 1212,\n",
       " 2008: 1020,\n",
       " 2009: 840,\n",
       " 2010: 701,\n",
       " 2011: 625,\n",
       " 2012: 550}"
      ]
     },
     "execution_count": 28,
     "metadata": {},
     "output_type": "execute_result"
    }
   ],
   "source": [
    "# propotion of arrests in 2001\n",
    "yearArrests = {x:0 for x in range(2001,2013)}\n",
    "for row in copy.itertuples():\n",
    "    if row.Arrest==True:\n",
    "        yearArrests[row.Year]+=1\n",
    "yearArrests"
   ]
  },
  {
   "cell_type": "code",
   "execution_count": 32,
   "metadata": {},
   "outputs": [
    {
     "data": {
      "text/plain": [
       "STREET                                             156564\n",
       "PARKING LOT/GARAGE(NON.RESID.)                      14852\n",
       "OTHER                                                4573\n",
       "ALLEY                                                2308\n",
       "GAS STATION                                          2111\n",
       "DRIVEWAY - RESIDENTIAL                               1675\n",
       "RESIDENTIAL YARD (FRONT/BACK)                        1536\n",
       "RESIDENCE                                            1302\n",
       "RESIDENCE-GARAGE                                     1176\n",
       "VACANT LOT/LAND                                       985\n",
       "VEHICLE NON-COMMERCIAL                                817\n",
       "SIDEWALK                                              462\n",
       "CHA PARKING LOT/GROUNDS                               405\n",
       "AIRPORT/AIRCRAFT                                      363\n",
       "POLICE FACILITY/VEH PARKING LOT                       266\n",
       "PARK PROPERTY                                         255\n",
       "SCHOOL, PUBLIC, GROUNDS                               206\n",
       "APARTMENT                                             184\n",
       "SPORTS ARENA/STADIUM                                  166\n",
       "CTA GARAGE / OTHER PROPERTY                           148\n",
       "COMMERCIAL / BUSINESS OFFICE                          126\n",
       "HOTEL/MOTEL                                           124\n",
       "SCHOOL, PUBLIC, BUILDING                              114\n",
       "HOSPITAL BUILDING/GROUNDS                             101\n",
       "GROCERY FOOD STORE                                     80\n",
       "CHURCH/SYNAGOGUE/PLACE OF WORSHIP                      56\n",
       "RESTAURANT                                             49\n",
       "GOVERNMENT BUILDING/PROPERTY                           48\n",
       "COLLEGE/UNIVERSITY GROUNDS                             47\n",
       "CAR WASH                                               44\n",
       "                                                    ...  \n",
       "AIRPORT VENDING ESTABLISHMENT                          10\n",
       "ATHLETIC CLUB                                           9\n",
       "OTHER COMMERCIAL TRANSPORTATION                         8\n",
       "DRUG STORE                                              8\n",
       "BANK                                                    7\n",
       "CONVENIENCE STORE                                       7\n",
       "FOREST PRESERVE                                         6\n",
       "FIRE STATION                                            5\n",
       "AIRPORT TERMINAL UPPER LEVEL - NON-SECURE AREA          5\n",
       "DAY CARE CENTER                                         5\n",
       "CHA APARTMENT                                           5\n",
       "AIRPORT BUILDING NON-TERMINAL - NON-SECURE AREA         4\n",
       "ABANDONED BUILDING                                      4\n",
       "LAKEFRONT/WATERFRONT/RIVERBANK                          4\n",
       "LIBRARY                                                 4\n",
       "SAVINGS AND LOAN                                        4\n",
       "BARBERSHOP                                              4\n",
       "CLEANING STORE                                          3\n",
       "MEDICAL/DENTAL OFFICE                                   3\n",
       "BOWLING ALLEY                                           3\n",
       "COLLEGE/UNIVERSITY RESIDENCE HALL                       2\n",
       "BRIDGE                                                  2\n",
       "CURRENCY EXCHANGE                                       2\n",
       "APPLIANCE STORE                                         1\n",
       "CTA TRAIN                                               1\n",
       "JAIL / LOCK-UP FACILITY                                 1\n",
       "AIRPORT EXTERIOR - SECURE AREA                          1\n",
       "AIRPORT BUILDING NON-TERMINAL - SECURE AREA             1\n",
       "ANIMAL HOSPITAL                                         1\n",
       "NEWSSTAND                                               1\n",
       "Name: LocationDescription, Length: 78, dtype: int64"
      ]
     },
     "execution_count": 32,
     "metadata": {},
     "output_type": "execute_result"
    }
   ],
   "source": [
    "# Top five locations for thefts\n",
    "copy.LocationDescription.value_counts()"
   ]
  },
  {
   "cell_type": "code",
   "execution_count": 33,
   "metadata": {},
   "outputs": [
    {
     "data": {
      "text/plain": [
       "{1: 6446,\n",
       " 2: 6098,\n",
       " 3: 6096,\n",
       " 4: 5947,\n",
       " 5: 6339,\n",
       " 6: 6219,\n",
       " 7: 6329,\n",
       " 8: 6184,\n",
       " 9: 6180,\n",
       " 10: 6404,\n",
       " 11: 6254,\n",
       " 12: 6455,\n",
       " 13: 6208,\n",
       " 14: 6355,\n",
       " 15: 6690,\n",
       " 16: 6243,\n",
       " 17: 6361,\n",
       " 18: 6304,\n",
       " 19: 6388,\n",
       " 20: 6453,\n",
       " 21: 6410,\n",
       " 22: 6278,\n",
       " 23: 6361,\n",
       " 24: 6155,\n",
       " 25: 6230,\n",
       " 26: 6218,\n",
       " 27: 6379,\n",
       " 28: 6386,\n",
       " 29: 5862,\n",
       " 30: 5750,\n",
       " 31: 3659}"
      ]
     },
     "execution_count": 33,
     "metadata": {},
     "output_type": "execute_result"
    }
   ],
   "source": [
    "# Counts of days\n",
    "dayCounts = {}\n",
    "for i in range(1,32):\n",
    "    count = 0\n",
    "    for j in copy['Day']:\n",
    "        if j==i:\n",
    "            count+=1\n",
    "    dayCounts[i]=count\n",
    "dayCounts"
   ]
  },
  {
   "cell_type": "code",
   "execution_count": null,
   "metadata": {},
   "outputs": [],
   "source": []
  }
 ],
 "metadata": {
  "kernelspec": {
   "display_name": "Python 3",
   "language": "python",
   "name": "python3"
  },
  "language_info": {
   "codemirror_mode": {
    "name": "ipython",
    "version": 2
   },
   "file_extension": ".py",
   "mimetype": "text/x-python",
   "name": "python",
   "nbconvert_exporter": "python",
   "pygments_lexer": "ipython2",
   "version": "2.7.17"
  }
 },
 "nbformat": 4,
 "nbformat_minor": 2
}
